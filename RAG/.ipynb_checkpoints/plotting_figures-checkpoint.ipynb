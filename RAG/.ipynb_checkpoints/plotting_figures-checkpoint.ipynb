{
 "cells": [
  {
   "cell_type": "code",
   "execution_count": 24,
   "metadata": {},
   "outputs": [],
   "source": [
    "import numpy as np\n",
    "import matplotlib.pyplot as plt\n",
    "import pickle as pkl\n",
    "import seaborn as sns"
   ]
  },
  {
   "cell_type": "code",
   "execution_count": 20,
   "metadata": {},
   "outputs": [],
   "source": [
    "f = open(\"../datasets/proofnet_decomposed_statement_testscores.pkl\", \"rb\")\n",
    "proofnet_test_scores = pkl.load(f)\n",
    "f.close()\n",
    "f = open(\"../datasets/minif2f_decomposed_statement_testscores.pkl\", \"rb\")\n",
    "minif2f_test_scores = pkl.load(f)\n",
    "f.close()"
   ]
  },
  {
   "cell_type": "code",
   "execution_count": 82,
   "metadata": {},
   "outputs": [],
   "source": [
    "def dist_plot(dist, title, color=\"#fdae61\"):\n",
    "    # print(sorted(dist))\n",
    "    plt.figure(figsize=(1.75, 1.3), dpi=72)\n",
    "    # _ = plt.hist(actor_risks, density=True, cumulative=True, histtype=\"step\")\n",
    "    sns.histplot(dist, color=color, label=\"Count\", bins=15)\n",
    "    # plt.axvline(x=0.9, c=\"k\", linestyle='--')\n",
    "    plt.xlabel(\"Similarity Score\".format(title), fontsize=9)\n",
    "    # plt.xlabel(None, fontsize=10)\n",
    "    plt.ylabel(\"Count\", fontsize=9)\n",
    "    plt.title(\"{} Test Split\".format(title),fontsize=9)\n",
    "    # plt.xlim(left=0.0)\n",
    "    # plt.yscale(\"log\")\n",
    "    # plt.ylim([1, 10000])\n",
    "    plt.subplots_adjust(left=0.35, right=0.95, top=0.85, bottom=0.35)\n",
    "    # plt.locator_params(axis='y', numticks=5)\n",
    "    plt.locator_params(axis='x', nbins=5)\n",
    "    plt.locator_params(axis='y', nbins=6)\n",
    "    plt.xticks(rotation = 0,  fontsize=9)\n",
    "    plt.yticks(fontsize=9)\n",
    "    # plt.locator_params(axis='y', nbins=6)\n",
    "    # plt.locator_params(axis='x', numticks=5) \n",
    "    # plt.title(title, fontsize=9)\n",
    "    # plt.ticklabel_format(style='sci', axis='x', scilimits=(0,0))\n",
    "    # plt.legend(labels=[\"CDF\"], fontsize=10)\n",
    "    # plt.tight_layout()\n",
    "    plt.savefig(\"{}_test_scores.png\".format(title))\n",
    "    plt.savefig(\"{}_test_scores.pdf\".format(title))\n",
    "    plt.show()"
   ]
  },
  {
   "cell_type": "code",
   "execution_count": 83,
   "metadata": {},
   "outputs": [
    {
     "data": {
      "image/png": "[encoded data removed]",
      "text/plain": [
       "<Figure size 126x93.6 with 1 Axes>"
      ]
     },
     "metadata": {
      "needs_background": "light"
     },
     "output_type": "display_data"
    }
   ],
   "source": [
    "dist_plot(proofnet_test_scores, title=\"ProofNet\")"
   ]
  },
  {
   "cell_type": "code",
   "execution_count": 84,
   "metadata": {},
   "outputs": [
    {
     "data": {
      "image/png": "[encoded data removed]",
      "text/plain": [
       "<Figure size 126x93.6 with 1 Axes>"
      ]
     },
     "metadata": {
      "needs_background": "light"
     },
     "output_type": "display_data"
    }
   ],
   "source": [
    "dist_plot(minif2f_test_scores, title=\"MiniF2F\")"
   ]
  },
  {
   "cell_type": "code",
   "execution_count": 101,
   "metadata": {},
   "outputs": [],
   "source": [
    "def dist_plot_hires(dist, title, color=\"#fdae61\"):\n",
    "    # print(sorted(dist))\n",
    "    # plt.figure(figsize=(1.75, 1.3), dpi=72)\n",
    "    # _ = plt.hist(actor_risks, density=True, cumulative=True, histtype=\"step\")\n",
    "    sns.histplot(dist, color=color, label=\"Count\", bins=15)\n",
    "    # plt.axvline(x=0.9, c=\"k\", linestyle='--')\n",
    "    plt.xlabel(\"Similarity Score\".format(title), fontsize=14)\n",
    "    # plt.xlabel(None, fontsize=10)\n",
    "    plt.ylabel(\"Count\", fontsize=14)\n",
    "    plt.title(\"{} Test Split\".format(title),fontsize=14)\n",
    "    # plt.xlim(left=0.0)\n",
    "    # plt.yscale(\"log\")\n",
    "    # plt.ylim([1, 10000])\n",
    "    # plt.subplots_adjust(left=0.35, right=0.95, top=0.85, bottom=0.35)\n",
    "    # plt.locator_params(axis='y', numticks=5)\n",
    "    plt.locator_params(axis='x', nbins=5)\n",
    "    plt.locator_params(axis='y', nbins=6)\n",
    "    plt.xticks(rotation = 0,  fontsize=14)\n",
    "    plt.yticks(fontsize=14)\n",
    "    # plt.locator_params(axis='y', nbins=6)\n",
    "    # plt.locator_params(axis='x', numticks=5) \n",
    "    # plt.title(title, fontsize=9)\n",
    "    # plt.ticklabel_format(style='sci', axis='x', scilimits=(0,0))\n",
    "    # plt.legend(labels=[\"CDF\"], fontsize=10)\n",
    "    plt.tight_layout()\n",
    "    plt.savefig(\"{}_test_scores_hires.png\".format(title))\n",
    "    # plt.savefig(\"{}_test_scores_hires.pdf\".format(title))\n",
    "    plt.show()"
   ]
  },
  {
   "cell_type": "code",
   "execution_count": 102,
   "metadata": {},
   "outputs": [
    {
     "data": {
      "image/png": "[encoded data removed]",
      "text/plain": [
       "<Figure size 432x288 with 1 Axes>"
      ]
     },
     "metadata": {
      "needs_background": "light"
     },
     "output_type": "display_data"
    }
   ],
   "source": [
    "dist_plot_hires(proofnet_test_scores, title=\"ProofNet\")"
   ]
  },
  {
   "cell_type": "code",
   "execution_count": 103,
   "metadata": {},
   "outputs": [
    {
     "data": {
      "image/png": "[encoded data removed]",
      "text/plain": [
       "<Figure size 432x288 with 1 Axes>"
      ]
     },
     "metadata": {
      "needs_background": "light"
     },
     "output_type": "display_data"
    }
   ],
   "source": [
    "dist_plot_hires(minif2f_test_scores, title=\"MiniF2F\")"
   ]
  },
  {
   "cell_type": "code",
   "execution_count": null,
   "metadata": {},
   "outputs": [],
   "source": []
  }
 ],
 "metadata": {
  "kernelspec": {
   "display_name": "Python 3",
   "language": "python",
   "name": "python3"
  },
  "language_info": {
   "codemirror_mode": {
    "name": "ipython",
    "version": 3
   },
   "file_extension": ".py",
   "mimetype": "text/x-python",
   "name": "python",
   "nbconvert_exporter": "python",
   "pygments_lexer": "ipython3",
   "version": "3.8.10"
  }
 },
 "nbformat": 4,
 "nbformat_minor": 4
}
